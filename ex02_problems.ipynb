{
 "cells": [
  {
   "cell_type": "markdown",
   "metadata": {},
   "source": [
    "# Sensor Data Fusion\n",
    "\n",
    "Lecturer: Prof. Baum \\\n",
    "Tutor: Dr. Kolja Thormann\\\n",
    "Semester: Summer 2024\n",
    "\n",
    "## Homework 2\n",
    "\n",
    "GPS consists of  24 satellites in  orbit (20200km above mean sea level). \n",
    "\n",
    "Each  satellite broadcasts its location (in spherical coordinates $[\\theta, \\phi, r]^T$) plus the emission time (see figures below).\n",
    "\n",
    "A GPS device receives at time $t=0s$ the following four satellite signals:\n",
    "\n",
    "| $i$ | $p_i$ | $t_i$ |\n",
    "| :--- | :---: | ---: |\n",
    "| 1 | $[  0^{°},  40^{°}, 20200 \\text{km}]^T$ | -67.603 ms |\n",
    "| 2 | $[ 10^{°},  20^{°}, 20200 \\text{km}]^T$ | -70.102 ms |\n",
    "| 3 | $[ 10^{°}, -10^{°}, 20200 \\text{km}]^T$ | -78.690 ms |\n",
    "| 4 | $[ -10^{°}, -20^{°}, 20200 \\text{km}]^T$ | -82.942 ms |\n",
    "\n",
    "Assume that the speed-of-light is $c=3\\cdot10^8\\text{ms}^{-1}$ and the Earth is an ideal sphere with radius $r^{\\text{E}}=6370 \\text{km}$.\n",
    "\n",
    "![Satellite Visuals](https://owncloud.gwdg.de/index.php/s/uhLQnOQFxyr61qc/download)"
   ]
  },
  {
   "cell_type": "markdown",
   "metadata": {},
   "source": [
    "---\n",
    "The following tasks will have missing sections marked that you should fill out. \n",
    "\n",
    "Missing code parts are marked by\n",
    "```\n",
    "# ... code code code\n",
    "=== YOUR CODE HERE ===\n",
    "\n",
    "=== END OF YOUR CODE ===\n",
    "# ... code code code\n",
    "```\n",
    "If you are asked to implement a function, make sure to check what variable will be returned by the function and to fill it accordingly. Do not change code outside of the indicated sections.\n",
    "\n",
    "Furthermore, some questions require theoretical answers instead of python code.\n",
    "\n",
    "Such questions will have a field marked like this: \n",
    "\n",
    "=== YOUR ANSWER HERE === "
   ]
  },
  {
   "cell_type": "code",
   "execution_count": null,
   "metadata": {},
   "outputs": [],
   "source": [
    "# import statements\n",
    "import numpy as np\n",
    "import matplotlib.pyplot as plt\n",
    "import math\n",
    "from numpy.linalg import inv\n",
    "import sympy as sym"
   ]
  },
  {
   "cell_type": "code",
   "execution_count": null,
   "metadata": {},
   "outputs": [],
   "source": [
    "# Definition of global variables\n",
    "speed_light = 3 * math.pow(10, 5)  # Speed of light def. - 10^5 because we want km/s\n",
    "R = 6370  # earth radius (assuming earth is a perfect sphere)\n",
    "t = np.array([67.603e-3, 70.102e-3, 78.690e-3, 82.942e-3])  # emission times\n",
    "\n",
    "# location in spherical coordinates\n",
    "p = [\n",
    "    [0, 40, 20200],\n",
    "    [10, 20, 20200],\n",
    "    [10, -10, 20200],\n",
    "    [-10,-20, 20200]\n",
    "    ]\n",
    "p = np.array(p)\n",
    "spher_coor_p = p  # add a second alias..."
   ]
  },
  {
   "cell_type": "markdown",
   "metadata": {},
   "source": [
    "---\n",
    "### a)\n",
    "Write a function which converts sphere coordinates $(\\theta,\\phi,r)$ into Cartesian coordinates $(x,y,z)$\n",
    "\n",
    "Hints: \n",
    "- The $x$ coordinates could be obtained according to $x = (r^\\text{E}+r)\\,cos\\phi\\,cos\\theta$\n",
    "- You could use `math.radians(...)` to convert degrees to radians"
   ]
  },
  {
   "cell_type": "code",
   "execution_count": null,
   "metadata": {},
   "outputs": [],
   "source": [
    "def sphere_to_cartesian(p_sphere, R):\n",
    "    \"\"\"\n",
    "    Function that converts spherical to cartesian coordinates. \n",
    "    :param p_sphere: 3x1 vector [theta, phi, R] with\n",
    "    theta, longitude in degree\n",
    "    phi, latitude in degree\n",
    "    r, altitude in km\n",
    "    :param R: earth radius in km\n",
    "    :return: p_cartesian, converted cartesian coordinates, as 3x1 vector [x,y,z]\n",
    "    \"\"\"\n",
    "    # make sure everything is numpy\n",
    "    p_sphere = np.array(p_sphere)\n",
    "    \n",
    "    # === YOUR CODE HERE ===\n",
    "    \n",
    "    \n",
    "    # === END OF YOUR CODE ===\n",
    "    \n",
    "    return p_cartesian"
   ]
  },
  {
   "cell_type": "markdown",
   "metadata": {},
   "source": [
    "Using the function you implemented, the Cartesian coordinates of these four Satellites will be calculated:"
   ]
  },
  {
   "cell_type": "code",
   "execution_count": null,
   "metadata": {},
   "outputs": [],
   "source": [
    "# calculating the cartesian coordinates based on your function:\n",
    "cart_coor_p = []\n",
    "for location in spher_coor_p:\n",
    "    cart_coor_p.append(sphere_to_cartesian(location, R))\n",
    "    \n",
    "# take a look at the results:\n",
    "print(\"Resulting cartesian Coordinates of the Satellite Locations:\")\n",
    "for location in cart_coor_p:\n",
    "    print(location)"
   ]
  },
  {
   "cell_type": "markdown",
   "metadata": {},
   "source": [
    "---\n",
    "### b)\n",
    "Please calculate the distance between satellites and GPS device."
   ]
  },
  {
   "cell_type": "code",
   "execution_count": null,
   "metadata": {},
   "outputs": [],
   "source": [
    "d = np.zeros((4,))\n",
    "\n",
    "# Use the following section to fill d with the distances between satellites and the GPS device.\n",
    "# === YOUR CODE HERE ===\n",
    "\n",
    "# d = ...\n",
    "\n",
    "# === END OF YOUR CODE ===\n",
    "\n",
    "assert d.shape == (4,)  # make sure that d still has the correct shape\n",
    "print(\"Distances between satellites and GPS device:\")\n",
    "for distance in d:\n",
    "    print(distance)"
   ]
  },
  {
   "cell_type": "markdown",
   "metadata": {},
   "source": [
    "Using the distance measurements, form the measurement equation like we did in the lecture.\n",
    "\n",
    "=== YOUR ANSWER HERE ===\n"
   ]
  },
  {
   "cell_type": "markdown",
   "metadata": {},
   "source": [
    "### c)\n",
    "\n",
    "Reformulate the non-linear measurement equation in b) into a linear measurement equation."
   ]
  },
  {
   "cell_type": "markdown",
   "metadata": {},
   "source": [
    "=== YOUR ANSWER HERE ===\n"
   ]
  },
  {
   "cell_type": "markdown",
   "metadata": {},
   "source": [
    "Now, implement your reformulation so that the least squares estimate can be calculated."
   ]
  },
  {
   "cell_type": "code",
   "execution_count": null,
   "metadata": {},
   "outputs": [],
   "source": [
    "cart_coor_p = np.array(cart_coor_p)\n",
    "\n",
    "# You will now need to create y and H of the measurement equation.\n",
    "#    y should be of shape (3,)\n",
    "#    H should be of shape (3,3)\n",
    "# === YOUR CODE HERE ===\n",
    "\n",
    "# y = ...\n",
    "\n",
    "# H = ...\n",
    "\n",
    "\n",
    "# === END OF YOUR CODE ===\n",
    "\n",
    "y = np.array(y)\n",
    "H = np.array(H)\n",
    "\n",
    "# ensure everything is in the correct form\n",
    "assert y.shape == (3,)\n",
    "assert H.shape == (3,3)"
   ]
  },
  {
   "cell_type": "markdown",
   "metadata": {},
   "source": [
    "Now, the least squares solution will be calculated using your y and H from above."
   ]
  },
  {
   "cell_type": "code",
   "execution_count": null,
   "metadata": {},
   "outputs": [],
   "source": [
    "x_hat = np.linalg.inv(H.T @ H) @ H.T @ y \n",
    "\n",
    "print(\"Least squares solution:\")\n",
    "for v in x_hat:\n",
    "    print(v)"
   ]
  },
  {
   "cell_type": "markdown",
   "metadata": {},
   "source": [
    "### d)\n",
    "Write a function which converts the cartesian coordinates into sphere coordinates. Use the function you implemented, calculate the longitude and latitude of the GPS device, and find out where it is using using _GPS Visualizer_ :\n",
    "\n",
    "[http://www.gpsvisualizer.com/map?form=google](http://www.gpsvisualizer.com/map?form=google)"
   ]
  },
  {
   "cell_type": "code",
   "execution_count": null,
   "metadata": {},
   "outputs": [],
   "source": [
    "def cartesian_to_sphere(p_cartesian, R):\n",
    "    \"\"\"\n",
    "    :param p_cartesian: Point represented in cartesian coordinates as 3x1 vector\n",
    "    :param R: Earth Radius in km\n",
    "    :return: p_sphere, point represented in sphere coordinates, \n",
    "            3x1 vector: [theta, phi,r],  with\n",
    "            theta, longitude in degree\n",
    "            phi, latitude in degree\n",
    "            r, altitude in km\n",
    "    \"\"\"\n",
    "    p_cartesian = np.array(p_cartesian)\n",
    "    \n",
    "    # === YOUR CODE HERE ===\n",
    "    \n",
    "    \n",
    "    # === END OF YOUR CODE ===\n",
    "    \n",
    "    return p_sphere"
   ]
  },
  {
   "cell_type": "markdown",
   "metadata": {},
   "source": [
    "Now, your function will be applied to acquire the resulting coordinates:"
   ]
  },
  {
   "cell_type": "code",
   "execution_count": null,
   "metadata": {},
   "outputs": [],
   "source": [
    "p_GPS = cartesian_to_sphere(x_hat, R)\n",
    "\n",
    "print(\"Spherical Coordinates of the Least Squares Result:\")\n",
    "print(\"Latitude:\",p_GPS[1])\n",
    "print(\"Longitude:\", p_GPS[0])\n",
    "print(\"r:\",p_GPS[2])"
   ]
  },
  {
   "cell_type": "markdown",
   "metadata": {},
   "source": [
    "To import this data into gpsvisualizer, copy the output of the following cell and paste it into the \"Paste your data here\" box on the bottom right to see where the location is on earth:"
   ]
  },
  {
   "cell_type": "code",
   "execution_count": null,
   "metadata": {},
   "outputs": [],
   "source": [
    "# formatting for gpsvisualizer\n",
    "print(\"type,latitude,longitude\")\n",
    "print(\"W,{:f},{:f}\".format(p_GPS[1], p_GPS[0]))"
   ]
  },
  {
   "cell_type": "markdown",
   "metadata": {},
   "source": [
    "---\n",
    "### e)\n",
    "Would the reformulation still work if we only got the first three measurements? If not, explain why."
   ]
  },
  {
   "cell_type": "markdown",
   "metadata": {},
   "source": [
    "=== YOUR ANSWER HERE ===\n"
   ]
  },
  {
   "cell_type": "markdown",
   "metadata": {},
   "source": [
    "---\n",
    "### f)\n",
    "Instead of reformulating the measurement equation into a linear equation, implement the Gauss-Newton method to calculate the least squares solution.\n",
    "\n",
    "Hints: \n",
    "- you will need to use symbolic python (the package sympy is already imported)\n",
    "- you will need to use sym.Matrix instead of np.array for most variables: convert np arrays into sympy as necessary, the two packages don't mix well\n",
    "- sympy provides .jacobian(...) for calculating the Jacobian\n",
    "- sympy provides .subs(...) for symbolic substitution \n"
   ]
  },
  {
   "cell_type": "code",
   "execution_count": null,
   "metadata": {},
   "outputs": [],
   "source": [
    "def gauss_newton(y, h, x1, x2, x3, x_init):\n",
    "    \"\"\"\n",
    "    Applies the Gauss-Newton method.\n",
    "    :param y: measurements\n",
    "    :param h: non-linear measurement matrix\n",
    "    :param x1: symbolic variable representing the dimension of the state\n",
    "    :param x2: symbolic variable representing the dimension of the state\n",
    "    :param x3: symbolic variable representing the dimension of the state\n",
    "    :return: x_hat, the resulting estimate\n",
    "    \"\"\"\n",
    "    y = sym.Matrix(3, 1, y)\n",
    "    x_init = np.array(x_init)\n",
    "\n",
    "    # === YOUR CODE HERE ===\n",
    "\n",
    "    \n",
    "\n",
    "    # === END OF YOUR CODE ===\n",
    "\n",
    "    return x_hat"
   ]
  },
  {
   "cell_type": "code",
   "execution_count": null,
   "metadata": {},
   "outputs": [],
   "source": [
    "# First, we create the symbolic variables\n",
    "x1 = sym.symbols(\"x1\")\n",
    "x2 = sym.symbols(\"x2\")\n",
    "x3 = sym.symbols(\"x3\")\n",
    "\n",
    "x = sym.Matrix(3, 1, [x1, x2, x3])\n",
    "\n",
    "# FYI: http://omz-software.com/pythonista/sympy/modules/matrices/matrices.html\n",
    "# if you want a deeper understanding of why lambda functions are used in the def. of h\n",
    "h = [\n",
    "    sym.sqrt(np.sum(sym.Matrix(1, 3, lambda i,j: (cart_coor_p[0,j] - x[j,0])**2).T)),\n",
    "    sym.sqrt(np.sum(sym.Matrix(1, 3, lambda i,j: (cart_coor_p[1,j] - x[j,0])**2).T)),\n",
    "    sym.sqrt(np.sum(sym.Matrix(1, 3, lambda i,j: (cart_coor_p[2,j] - x[j,0])**2).T))\n",
    "]\n",
    "\n",
    "h = sym.Matrix(3, 1, h)\n",
    "# Next, we apply the gauss newton algorithm\n",
    "x_init = np.array([0, 0, 0])\n",
    "x_hat_gn = gauss_newton(d,h,x1,x2,x3,x_init)\n",
    "\n",
    "x_hat_gn = np.reshape(np.array(x_hat_gn), (3,)).astype(float)\n",
    "\n",
    "print(\"\\n---\\nGN Solution after using {} as initial guess:\".format(x_init))\n",
    "print(x_hat_gn)\n",
    "print(\"\\nDistance to true solution: {:.4f}\".format(np.linalg.norm(gt-x_hat_gn)))"
   ]
  },
  {
   "cell_type": "markdown",
   "metadata": {},
   "source": [
    "### f) \n",
    "Instead of reformulating the measurement equation into a linear equation, implement the Gauss-Newton method to calculate the least squares solution."
   ]
  },
  {
   "cell_type": "code",
   "execution_count": null,
   "metadata": {},
   "outputs": [],
   "source": []
  }
 ],
 "metadata": {
  "kernelspec": {
   "display_name": "Python 3 (ipykernel)",
   "language": "python",
   "name": "python3"
  },
  "language_info": {
   "codemirror_mode": {
    "name": "ipython",
    "version": 3
   },
   "file_extension": ".py",
   "mimetype": "text/x-python",
   "name": "python",
   "nbconvert_exporter": "python",
   "pygments_lexer": "ipython3",
   "version": "3.11.9"
  },
  "toc": {
   "base_numbering": 1,
   "nav_menu": {},
   "number_sections": true,
   "sideBar": true,
   "skip_h1_title": false,
   "title_cell": "Table of Contents",
   "title_sidebar": "Contents",
   "toc_cell": false,
   "toc_position": {},
   "toc_section_display": true,
   "toc_window_display": false
  }
 },
 "nbformat": 4,
 "nbformat_minor": 4
}
